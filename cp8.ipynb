{
 "cells": [
  {
   "cell_type": "code",
   "execution_count": 2,
   "metadata": {},
   "outputs": [],
   "source": [
    "import numpy as np\n",
    "import matplotlib.pyplot as plt\n",
    "import timeit\n",
    "from LU_fact import lu"
   ]
  },
  {
   "cell_type": "code",
   "execution_count": 3,
   "metadata": {},
   "outputs": [],
   "source": [
    "def tri_solve_back(R, b):\n",
    "    \"\"\"Solves a system of linear equations via backwards substitution\n",
    "    Args:\n",
    "        R (np.array): upper triangular matrix\n",
    "        b (np.array): input vector\n",
    "    Returns:\n",
    "        np.array: output vector\n",
    "    \"\"\"\n",
    "    n = R.shape[1]\n",
    "    x= np.zeros(n)\n",
    "    for i in reversed(range(n)):\n",
    "        x[i] = (b[i] - (np.dot(R[i,:],x))) / R[i, i]\n",
    "    return x"
   ]
  },
  {
   "cell_type": "code",
   "execution_count": 4,
   "metadata": {},
   "outputs": [],
   "source": [
    "def tri_solve_forw(L, b):\n",
    "    \"\"\"Solves a system of linear equations\n",
    "    Args:\n",
    "        L (np.array): lower triangular matrix\n",
    "        b (np.array): input vector\n",
    "    Returns:\n",
    "        np.array: output vector\n",
    "    \"\"\"\n",
    "    n = L.shape[0]\n",
    "    x= np.zeros((n, 1))\n",
    "    for i in range(n):\n",
    "        x[i, 0] = (b[i] - (np.sum(L[i, :i] * x[:i, 0]))) / L[i, i]\n",
    "    return x"
   ]
  },
  {
   "cell_type": "markdown",
   "metadata": {},
   "source": [
    "$$\n",
    "\n",
    "M x = b \\\\\n",
    "M = LU \\\\\n",
    "Ly = b \\\\\n",
    "Ux = y \\\\\n",
    "\n",
    "$$"
   ]
  },
  {
   "cell_type": "code",
   "execution_count": 7,
   "metadata": {},
   "outputs": [],
   "source": [
    "def LU_solve(M, b):\n",
    "    M = lu(M, pv = False)[0]\n",
    "    n = M.shape[0]\n",
    "    \n",
    "    L = np.eye(n) + np.tril(M, k = -1)\n",
    "\n",
    "    U = np.triu(M)\n",
    "\n",
    "    y = tri_solve_forw(L, b)\n",
    "    x = tri_solve_back(U, y)\n",
    "    \n",
    "    return x"
   ]
  },
  {
   "cell_type": "code",
   "execution_count": 8,
   "metadata": {},
   "outputs": [
    {
     "name": "stdout",
     "output_type": "stream",
     "text": [
      "solution for the test system: [-1.27619048  1.87619048  0.57142857  2.43809524]\n"
     ]
    }
   ],
   "source": [
    "M = np.array(([\n",
    "        7, 3, -1, 2\n",
    "    ],[\n",
    "        3, 8, 1, -4\n",
    "    ],[\n",
    "        -1, 1, 4, -1\n",
    "    ],[\n",
    "        2, -4, -1, 6\n",
    "    ]), dtype = float)\n",
    "b = np.array([1, 2, 3, 4], dtype = float)\n",
    "\n",
    "x  = LU_solve(M, b)\n",
    "print(f\"solution for the test system: {x}\")"
   ]
  },
  {
   "cell_type": "code",
   "execution_count": 8,
   "metadata": {},
   "outputs": [],
   "source": [
    "def benchmark(n):\n",
    "    t = np.zeros(n)\n",
    "    for i in range(3, n):\n",
    "        M = np.random.rand(i,i)\n",
    "        b = np.random.rand(i)\n",
    "        t[i] = timeit.timeit(\"LU_solve(M, b)\", globals={\"M\": M, \"b\": b, \"LU_solve\" : LU_solve}, number = 10)\n",
    "    return t\n",
    "time = benchmark(500)\n",
    "\n",
    "# M = np.random.rand(10,10)\n",
    "# b = np.random.rand(10)\n",
    "# LU_solve(M, b)\n",
    "# timeit.repeat(\"LU_solve(M, b)\", globals={\"M\": M, \"b\": b, \"LU_solve\" : LU_solve}, number = 10)"
   ]
  },
  {
   "cell_type": "code",
   "execution_count": 22,
   "metadata": {},
   "outputs": [],
   "source": [
    "def benchmark_plot(time):\n",
    "    n = np.shape(time)[0]\n",
    "    t = np.arange(n)\n",
    "    plt.plot(t, time)\n",
    "    plt.xscale(\"log\")\n",
    "    plt.yscale(\"log\")\n",
    "    plt.xlabel(\"system size\")\n",
    "    plt.ylabel(\"calculation time\")\n",
    "    plt.xlim((10**0.8, 10**3))"
   ]
  },
  {
   "cell_type": "code",
   "execution_count": 23,
   "metadata": {},
   "outputs": [
    {
     "data": {
      "image/png": "[encoded data removed]",
      "text/plain": [
       "<Figure size 432x288 with 1 Axes>"
      ]
     },
     "metadata": {
      "needs_background": "light"
     },
     "output_type": "display_data"
    }
   ],
   "source": [
    "benchmark_plot(time)"
   ]
  },
  {
   "cell_type": "code",
   "execution_count": 9,
   "metadata": {},
   "outputs": [
    {
     "name": "stdout",
     "output_type": "stream",
     "text": [
      "pivot = 0! j = 0\n",
      "pivot = 0! j = 1\n",
      "pivot = 0! j = 2\n",
      "solution for the test system: [nan nan nan inf]\n"
     ]
    },
    {
     "name": "stderr",
     "output_type": "stream",
     "text": [
      "<ipython-input-3-56cf8e675309>:12: RuntimeWarning: divide by zero encountered in divide\n",
      "  x[i] = (b[i] - (np.dot(R[i,:],x))) / R[i, i]\n"
     ]
    }
   ],
   "source": [
    "M = np.array(([\n",
    "        0, 0, 0, 1\n",
    "    ],[\n",
    "        0, 0, 1, 0\n",
    "    ],[\n",
    "        0, 1, 0, 0\n",
    "    ],[\n",
    "        1, 0, 0, 0\n",
    "    ]), dtype = float)\n",
    "b = np.array([1, 2, 3, 4], dtype = float)\n",
    "\n",
    "x  = LU_solve(M, b)\n",
    "print(f\"solution for the test system: {x}\")"
   ]
  }
 ],
 "metadata": {
  "kernelspec": {
   "display_name": "Python 3",
   "language": "python",
   "name": "python3"
  },
  "language_info": {
   "codemirror_mode": {
    "name": "ipython",
    "version": 3
   },
   "file_extension": ".py",
   "mimetype": "text/x-python",
   "name": "python",
   "nbconvert_exporter": "python",
   "pygments_lexer": "ipython3",
   "version": "3.8.10"
  }
 },
 "nbformat": 4,
 "nbformat_minor": 2
}
