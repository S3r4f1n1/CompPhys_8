{
 "cells": [
  {
   "cell_type": "code",
   "execution_count": 11,
   "metadata": {},
   "outputs": [],
   "source": [
    "import numpy as np\n",
    "import matplotlib.pyplot as plt\n",
    "from scipy import linalg\n",
    "import timeit"
   ]
  },
  {
   "cell_type": "code",
   "execution_count": 12,
   "metadata": {},
   "outputs": [],
   "source": [
    "def tri_solve_back(R, b):\n",
    "    \"\"\"Solves a system of linear equations via backwards substitution\n",
    "    Args:\n",
    "        R (np.array): upper triangular matrix\n",
    "        b (np.array): input vector\n",
    "    Returns:\n",
    "        np.array: output vector\n",
    "    \"\"\"\n",
    "    n = R.shape[1]\n",
    "    x= np.zeros(n)\n",
    "    for i in reversed(range(n)):\n",
    "        x[i] = (b[i] - (np.dot(R[i,:],x))) / R[i, i]"
   ]
  },
  {
   "cell_type": "code",
   "execution_count": 13,
   "metadata": {},
   "outputs": [],
   "source": [
    "def tri_solve_forw(L, b):\n",
    "    \"\"\"Solves a system of linear equations\n",
    "    Args:\n",
    "        L (np.array): lower triangular matrix\n",
    "        b (np.array): input vector\n",
    "    Returns:\n",
    "        np.array: output vector\n",
    "    \"\"\"\n",
    "    n = L.shape[0]\n",
    "    x= np.zeros((n, 1))\n",
    "    for i in range(n):\n",
    "        x[i, 0] = (b[i] - (np.sum(L[i, :i] * x[:i, 0]))) / L[i, i]\n",
    "    return x"
   ]
  },
  {
   "cell_type": "markdown",
   "metadata": {},
   "source": [
    "#### Source: Alessandro Coretti"
   ]
  },
  {
   "cell_type": "code",
   "execution_count": 14,
   "metadata": {},
   "outputs": [],
   "source": [
    "def lu(M_in, pv):\n",
    "    \"\"\" \n",
    "    Compute the LU decomposition of a matrix M=(P)LU. \n",
    "    Input: \n",
    "    nxn matrix M_in; pv=T/F (pivoting).\n",
    "    Output: \n",
    "    matrix M containing U in the upper triangle and \n",
    "    L below the main diagonal (NB: the diagonal elements \n",
    "    of L are equal to 1, not stored); \n",
    "    vector z describing the permutations: row i was \n",
    "    interchanged with row z[i].\n",
    "    \"\"\"\n",
    "    M = np.copy(M_in)\n",
    "    [m,n] = M.shape\n",
    "    if m != n:\n",
    "        raise SystemExit('M is not a square matrix: exit')\n",
    "    if abs(linalg.det(M)) < 1e-8:\n",
    "        raise SystemExit('M is singular')\n",
    "    \n",
    "    # initialize line swap vector\n",
    "    z = np.arange(n)\n",
    "    for j in range(n-1):\n",
    "    # pivot search\n",
    "        pivot = abs(M[j,j])\n",
    "        p = j\n",
    "        if pv:\n",
    "            for i in range(j+1,n):\n",
    "                tmp_pivot = abs(M[i,j])\n",
    "                if tmp_pivot > pivot:\n",
    "                    pivot = tmp_pivot\n",
    "                    p = i # update index\n",
    "        \n",
    "        if pivot != 0:\n",
    "            if pv:\n",
    "            # line swapping (elegant)\n",
    "                M[[j,p]] = M[[p,j]]\n",
    "                z[j], z[p] = z[p], z[j]\n",
    "            for i in range(j+1,n):\n",
    "                M[i,j] = M[i,j] / M[j,j] # division by pivot, M[i,j] now stores L[i,j]\n",
    "                M[i,j+1:n] = M[i,j+1:n] - M[i,j]*M[j,j+1:n]\n",
    "        else:\n",
    "            print(f'pivot = 0! j = {j}')\n",
    "            \n",
    "    return M, z\n"
   ]
  },
  {
   "cell_type": "markdown",
   "metadata": {},
   "source": [
    "$$\n",
    "\n",
    "M x = b \\\\\n",
    "M = LU \\\\\n",
    "Ly = b \\\\\n",
    "Ux = y \\\\\n",
    "\n",
    "$$"
   ]
  },
  {
   "cell_type": "code",
   "execution_count": 40,
   "metadata": {},
   "outputs": [],
   "source": [
    "def LU_solve(M, b):\n",
    "    M = lu(M, pv = True)[0]\n",
    "    print(M)\n",
    "    n = M.shape[0]\n",
    "    L = np.eye(n) + np.tril(M, k = -1)\n",
    "    \n",
    "    # print(np.tril(M, k = -1))\n",
    "    # print(L)\n",
    "    U = np.triu(M)\n",
    "    # print(U)\n",
    "    y = tri_solve_forw(L, b)\n",
    "    x = tri_solve_back(U, y)\n",
    "    \n",
    "    return x"
   ]
  },
  {
   "cell_type": "code",
   "execution_count": 41,
   "metadata": {},
   "outputs": [
    {
     "name": "stdout",
     "output_type": "stream",
     "text": [
      "[[ 7  3 -1  2]\n",
      " [ 0  8  1 -4]\n",
      " [ 0  0  4 -1]\n",
      " [ 0  0  0  6]]\n"
     ]
    }
   ],
   "source": [
    "M = np.array(([\n",
    "        7, 3, -1, 2\n",
    "    ],[\n",
    "        3, 8, 1, -4\n",
    "    ],[\n",
    "        -1, 1, 4, -1\n",
    "    ],[\n",
    "        2, -4, -1, 6\n",
    "    ]))\n",
    "b = np.array([1, 2, 3, 4])\n",
    "\n",
    "x  = LU_solve(M, b)\n",
    "# print(x)\n"
   ]
  }
 ],
 "metadata": {
  "kernelspec": {
   "display_name": "Python 3",
   "language": "python",
   "name": "python3"
  },
  "language_info": {
   "codemirror_mode": {
    "name": "ipython",
    "version": 3
   },
   "file_extension": ".py",
   "mimetype": "text/x-python",
   "name": "python",
   "nbconvert_exporter": "python",
   "pygments_lexer": "ipython3",
   "version": "3.8.10"
  }
 },
 "nbformat": 4,
 "nbformat_minor": 2
}
