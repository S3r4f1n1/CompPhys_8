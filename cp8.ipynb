{
 "cells": [
  {
   "cell_type": "code",
   "execution_count": 1,
   "metadata": {},
   "outputs": [],
   "source": [
    "import numpy as np\n",
    "import matplotlib.pyplot as plt\n",
    "from scipy import linalg"
   ]
  },
  {
   "cell_type": "code",
   "execution_count": 2,
   "metadata": {},
   "outputs": [],
   "source": [
    "def tri_solve_back(R, b):\n",
    "    \"\"\"Solves a system of linear equations via backwards substitution\n",
    "    Args:\n",
    "        R (np.array): upper triangular matrix\n",
    "        b (np.array): input vector\n",
    "    Returns:\n",
    "        np.array: output vector\n",
    "    \"\"\"\n",
    "    n = R.shape[1]\n",
    "    x= np.zeros(n)\n",
    "    for i in reversed(range(n)):\n",
    "        x[i] = (b[i] - (np.dot(R[i,:],x))) / R[i, i]"
   ]
  },
  {
   "cell_type": "code",
   "execution_count": 3,
   "metadata": {},
   "outputs": [],
   "source": [
    "def tri_solve_forw(L, b):\n",
    "    \"\"\"Solves a system of linear equations\n",
    "    Args:\n",
    "        L (np.array): lower triangular matrix\n",
    "        b (np.array): input vector\n",
    "    Returns:\n",
    "        np.array: output vector\n",
    "    \"\"\"\n",
    "    n = L.shape[0]\n",
    "    x= np.zeros((n, 1))\n",
    "    for i in range(n):\n",
    "        x[i, 0] = (b[i] - (np.sum(L[i, :i] * x[:i, 0]))) / L[i, i]\n",
    "    return x"
   ]
  },
  {
   "cell_type": "markdown",
   "metadata": {},
   "source": [
    "#### Source: Alessandro Coretti"
   ]
  },
  {
   "cell_type": "code",
   "execution_count": null,
   "metadata": {},
   "outputs": [],
   "source": [
    "def lu(M_in, pv):\n",
    "    \"\"\" \n",
    "    Compute the LU decomposition of a matrix M=(P)LU. \n",
    "    Input: \n",
    "    nxn matrix M_in; pv=T/F (pivoting).\n",
    "    Output: \n",
    "    matrix M containing U in the upper triangle and \n",
    "    L below the main diagonal (NB: the diagonal elements \n",
    "    of L are equal to 1, not stored); \n",
    "    vector z describing the permutations: row i was \n",
    "    interchanged with row z[i].\n",
    "    \"\"\"\n",
    "    M = np.copy(M_in)\n",
    "    [m,n] = M.shape\n",
    "    if m != n:\n",
    "        raise SystemExit('M is not a square matrix: exit')\n",
    "    if abs(linalg.det(M)) < 1e-8:\n",
    "        raise SystemExit('M is singular')\n",
    "    \n",
    "    # initialize line swap vector\n",
    "    z = np.arange(n)\n",
    "    for j in range(n-1):\n",
    "    # pivot search\n",
    "        pivot = abs(M[j,j])\n",
    "        p = j\n",
    "        if pv:\n",
    "            for i in range(j+1,n):\n",
    "                tmp_pivot = abs(M[i,j])\n",
    "                if tmp_pivot > pivot:\n",
    "                    pivot = tmp_pivot\n",
    "                    p = i # update index\n",
    "        \n",
    "        if pivot != 0:\n",
    "            if pv:\n",
    "            # line swapping (elegant)\n",
    "                M[[j,p]] = M[[p,j]]\n",
    "                z[j], z[p] = z[p], z[j]\n",
    "            for i in range(j+1,n):\n",
    "                M[i,j] = M[i,j] / M[j,j] # division by pivot, M[i,j] now stores L[i,j]\n",
    "                M[i,j+1:n] = M[i,j+1:n] - M[i,j]*M[j,j+1:n]\n",
    "        else:\n",
    "            print(f'pivot = 0! j = {j}')\n",
    "            \n",
    "    return M, z\n"
   ]
  }
 ],
 "metadata": {
  "kernelspec": {
   "display_name": "Python 3",
   "language": "python",
   "name": "python3"
  },
  "language_info": {
   "codemirror_mode": {
    "name": "ipython",
    "version": 3
   },
   "file_extension": ".py",
   "mimetype": "text/x-python",
   "name": "python",
   "nbconvert_exporter": "python",
   "pygments_lexer": "ipython3",
   "version": "3.8.10"
  }
 },
 "nbformat": 4,
 "nbformat_minor": 2
}
